{
 "cells": [
  {
   "cell_type": "code",
   "execution_count": 10,
   "metadata": {},
   "outputs": [],
   "source": [
    "import numpy as np\n",
    "import matplotlib\n",
    "import matplotlib.pyplot as plt\n",
    "from scipy.stats.stats import pearsonr\n"
   ]
  },
  {
   "cell_type": "code",
   "execution_count": 11,
   "metadata": {},
   "outputs": [
    {
     "name": "stdout",
     "output_type": "stream",
     "text": [
      "Dependent variable = Number of Deaths\n",
      "Independent variable = Age\n"
     ]
    }
   ],
   "source": [
    "Age = np.array([[17.5], [22], [29.5], [44.5], [64.5], [80]])\n",
    "Nd = np.array([[38], [36], [24], [20], [18], [28]])\n",
    "print(\"Dependent variable = Number of Deaths\")\n",
    "print(\"Independent variable = Age\")"
   ]
  },
  {
   "cell_type": "code",
   "execution_count": 12,
   "metadata": {},
   "outputs": [
    {
     "name": "stdout",
     "output_type": "stream",
     "text": [
      "('theta - ', array([[35.58180453],\n",
      "       [-0.19182491]]))\n"
     ]
    }
   ],
   "source": [
    "X_b = np.c_[np.ones((6, 1)), Age]  \n",
    "theta= np.linalg.inv(X_b.T.dot(X_b)).dot(X_b.T).dot(Nd)\n",
    "print(\"theta - \", theta)"
   ]
  },
  {
   "cell_type": "code",
   "execution_count": 13,
   "metadata": {},
   "outputs": [
    {
     "data": {
      "image/png": "[encoded data removed]",
      "text/plain": [
       "<Figure size 432x288 with 1 Axes>"
      ]
     },
     "metadata": {},
     "output_type": "display_data"
    }
   ],
   "source": [
    "plt.plot(Age, Nd, \"b.\")\n",
    "plt.xlabel(\"Age\", fontsize=18)\n",
    "plt.ylabel(\"Number of Deaths\", fontsize=18)\n",
    "plt.axis([15, 85, 15, 50])\n",
    "plt.show()"
   ]
  },
  {
   "cell_type": "code",
   "execution_count": 14,
   "metadata": {},
   "outputs": [
    {
     "name": "stdout",
     "output_type": "stream",
     "text": [
      "('y = ', array([35.58180453]), '+', array([-0.19182491]), 'x')\n"
     ]
    }
   ],
   "source": [
    "print(\"y = \",theta[0],\"+\",theta[1],\"x\")"
   ]
  },
  {
   "cell_type": "code",
   "execution_count": 15,
   "metadata": {},
   "outputs": [
    {
     "data": {
      "text/plain": [
       "array([[35.58180453],\n",
       "       [16.39931338]])"
      ]
     },
     "execution_count": 15,
     "metadata": {},
     "output_type": "execute_result"
    }
   ],
   "source": [
    "X_new = np.array([[0], [100]])\n",
    "X_new_b = np.c_[np.ones((2, 1)), X_new]  # add x0 = 1 to each instance\n",
    "y_predict = X_new_b.dot(theta)\n",
    "y_predict"
   ]
  },
  {
   "cell_type": "code",
   "execution_count": 16,
   "metadata": {},
   "outputs": [
    {
     "data": {
      "image/png": "[encoded data removed]",
      "text/plain": [
       "<Figure size 432x288 with 1 Axes>"
      ]
     },
     "metadata": {},
     "output_type": "display_data"
    }
   ],
   "source": [
    "plt.plot(X_new, y_predict, \"r-\", linewidth=2, label=\"Predictions\")\n",
    "plt.plot(Age, Nd, \"b.\")\n",
    "plt.xlabel(\"Age\", fontsize=20)\n",
    "plt.ylabel(\"Number of Deaths\", fontsize=20)\n",
    "plt.legend(loc=\"upper left\", fontsize=18)\n",
    "plt.axis([15, 85, 15, 50])\n",
    "plt.show()"
   ]
  },
  {
   "cell_type": "code",
   "execution_count": 17,
   "metadata": {},
   "outputs": [
    {
     "name": "stdout",
     "output_type": "stream",
     "text": [
      "('Prediction(Number of deaths at the age of 40) - ', array([27.90880807]))\n",
      "('Prediction(Number of deaths at the age of 60) - ', array([24.07230984]))\n"
     ]
    }
   ],
   "source": [
    "print(\"Prediction(Number of deaths at the age of 40) - \",theta[0]+theta[1]*40)\n",
    "print(\"Prediction(Number of deaths at the age of 60) - \",theta[0]+theta[1]*60)"
   ]
  },
  {
   "cell_type": "code",
   "execution_count": 19,
   "metadata": {},
   "outputs": [
    {
     "name": "stdout",
     "output_type": "stream",
     "text": [
      "('Correlation coefficient -', array([-0.57874371]))\n"
     ]
    }
   ],
   "source": [
    "p = pearsonr(Age, Nd)\n",
    "print(\"Correlation coefficient -\",p[0])"
   ]
  },
  {
   "cell_type": "code",
   "execution_count": 20,
   "metadata": {},
   "outputs": [
    {
     "name": "stdout",
     "output_type": "stream",
     "text": [
      "There is negative association as the correlation is negative.\n"
     ]
    }
   ],
   "source": [
    "print(\"There is negative association as the correlation is negative.\")"
   ]
  },
  {
   "cell_type": "code",
   "execution_count": null,
   "metadata": {},
   "outputs": [],
   "source": []
  }
 ],
 "metadata": {
  "kernelspec": {
   "display_name": "Python 3",
   "language": "python",
   "name": "python3"
  },
  "language_info": {
   "codemirror_mode": {
    "name": "ipython",
    "version": 2
   },
   "file_extension": ".py",
   "mimetype": "text/x-python",
   "name": "python",
   "nbconvert_exporter": "python",
   "pygments_lexer": "ipython2",
   "version": "2.7.15"
  }
 },
 "nbformat": 4,
 "nbformat_minor": 2
}
